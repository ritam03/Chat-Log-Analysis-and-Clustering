{
 "cells": [
  {
   "cell_type": "code",
   "execution_count": 1,
   "id": "c383ee4e-48f1-4dbb-884b-55c24a02cdce",
   "metadata": {},
   "outputs": [
    {
     "name": "stdout",
     "output_type": "stream",
     "text": [
      "Dataset loaded successfully!\n",
      "   tweet_id   author_id  inbound                      created_at  \\\n",
      "0         1  sprintcare    False  Tue Oct 31 22:10:47 +0000 2017   \n",
      "1         2      115712     True  Tue Oct 31 22:11:45 +0000 2017   \n",
      "2         3      115712     True  Tue Oct 31 22:08:27 +0000 2017   \n",
      "3         4  sprintcare    False  Tue Oct 31 21:54:49 +0000 2017   \n",
      "4         5      115712     True  Tue Oct 31 21:49:35 +0000 2017   \n",
      "\n",
      "                                                text response_tweet_id  \\\n",
      "0  @115712 I understand. I would like to assist y...                 2   \n",
      "1      @sprintcare and how do you propose we do that               NaN   \n",
      "2  @sprintcare I have sent several private messag...                 1   \n",
      "3  @115712 Please send us a Private Message so th...                 3   \n",
      "4                                 @sprintcare I did.                 4   \n",
      "\n",
      "   in_response_to_tweet_id  \n",
      "0                      3.0  \n",
      "1                      1.0  \n",
      "2                      4.0  \n",
      "3                      5.0  \n",
      "4                      6.0  \n"
     ]
    }
   ],
   "source": [
    "import pandas as pd\n",
    "from langdetect import detect\n",
    "import numpy as np\n",
    "\n",
    "df = pd.read_csv('twcs.csv')\n",
    "print(\"Dataset loaded successfully!\")\n",
    "print(df.head())"
   ]
  },
  {
   "cell_type": "code",
   "execution_count": 2,
   "id": "dc019f27-e140-49f0-9748-3ac8c8568c62",
   "metadata": {},
   "outputs": [
    {
     "name": "stdout",
     "output_type": "stream",
     "text": [
      "Found 21981 initial queries to @AmazonHelp.\n"
     ]
    }
   ],
   "source": [
    "first_queries = df[\n",
    "    (df['inbound'] == True) &\n",
    "    (df['text'].str.contains('@AmazonHelp')) &\n",
    "    (df['in_response_to_tweet_id'].isna()) &\n",
    "    (df['author_id'] != 'AmazonHelp')\n",
    "].copy()\n",
    "\n",
    "print(f\"Found {len(first_queries)} initial queries to @AmazonHelp.\")"
   ]
  },
  {
   "cell_type": "code",
   "execution_count": 3,
   "id": "3b39b62e-ae70-432a-b6e5-6dbd1b11afc5",
   "metadata": {},
   "outputs": [
    {
     "name": "stdout",
     "output_type": "stream",
     "text": [
      "Found 18528 unique first-queries to @AmazonHelp.\n"
     ]
    }
   ],
   "source": [
    "import pandas as pd\n",
    "\n",
    "# Drop duplicates to keep only the first tweet from each author based on timing\n",
    "first_queries['created_at'] = pd.to_datetime(first_queries['created_at'])\n",
    "first_queries = first_queries.sort_values(by='created_at', ascending=True)\n",
    "first_queries_unique = first_queries.drop_duplicates(subset='author_id', keep='first')\n",
    "\n",
    "print(f\"Found {len(first_queries_unique)} unique first-queries to @AmazonHelp.\")"
   ]
  },
  {
   "cell_type": "code",
   "execution_count": 4,
   "id": "02d2d04f-cbdc-4f73-9616-7d76d6279d8f",
   "metadata": {},
   "outputs": [
    {
     "name": "stdout",
     "output_type": "stream",
     "text": [
      "Requirement already satisfied: langdetect in c:\\users\\ritam pal\\appdata\\local\\programs\\python\\python311\\lib\\site-packages (1.0.9)\n",
      "Requirement already satisfied: six in c:\\users\\ritam pal\\appdata\\local\\programs\\python\\python311\\lib\\site-packages (from langdetect) (1.16.0)\n"
     ]
    },
    {
     "name": "stderr",
     "output_type": "stream",
     "text": [
      "\n",
      "[notice] A new release of pip is available: 24.3.1 -> 25.2\n",
      "[notice] To update, run: python.exe -m pip install --upgrade pip\n"
     ]
    }
   ],
   "source": [
    "!pip install langdetect"
   ]
  },
  {
   "cell_type": "code",
   "execution_count": 5,
   "id": "6d3105ad-83b2-47b4-8c01-387c75f1164a",
   "metadata": {},
   "outputs": [
    {
     "name": "stdout",
     "output_type": "stream",
     "text": [
      "Found 15843 English-language queries to @AmazonHelp.\n"
     ]
    }
   ],
   "source": [
    "from langdetect import detect\n",
    "\n",
    "# Filter for English tweets only\n",
    "def is_english(text):\n",
    "    try:\n",
    "        return detect(text) == 'en'\n",
    "    except:\n",
    "        return False\n",
    "\n",
    "first_queries_english = first_queries_unique[first_queries_unique['text'].apply(is_english)].copy()\n",
    "\n",
    "print(f\"Found {len(first_queries_english)} English-language queries to @AmazonHelp.\")"
   ]
  },
  {
   "cell_type": "code",
   "execution_count": 6,
   "id": "311c04f8-147b-4be7-b89b-a729adf2bdba",
   "metadata": {},
   "outputs": [],
   "source": [
    "final_df = pd.DataFrame({'text': first_queries_english['text']})\n",
    "final_df.insert(0, 'id', range(1, 1 + len(final_df)))\n",
    "final_df.to_csv('first_queries_to_amazonhelp.csv', index=False)"
   ]
  }
 ],
 "metadata": {
  "kernelspec": {
   "display_name": "Python 3 (ipykernel)",
   "language": "python",
   "name": "python3"
  },
  "language_info": {
   "codemirror_mode": {
    "name": "ipython",
    "version": 3
   },
   "file_extension": ".py",
   "mimetype": "text/x-python",
   "name": "python",
   "nbconvert_exporter": "python",
   "pygments_lexer": "ipython3",
   "version": "3.11.0"
  }
 },
 "nbformat": 4,
 "nbformat_minor": 5
}
