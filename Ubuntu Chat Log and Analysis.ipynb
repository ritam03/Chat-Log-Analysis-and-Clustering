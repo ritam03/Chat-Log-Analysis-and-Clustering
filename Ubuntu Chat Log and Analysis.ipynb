{
 "cells": [
  {
   "cell_type": "code",
   "execution_count": 1,
   "id": "b803dac6-0407-482e-aab6-61e5c17f45da",
   "metadata": {},
   "outputs": [],
   "source": [
    "# Cell 1: set dataset path (edit if your CSV has a different name/location)\n",
    "DATA_PATH = \"dialogueText.csv\""
   ]
  },
  {
   "cell_type": "code",
   "execution_count": 2,
   "id": "d1d2eceb-898b-4bd4-b085-52b555c62a34",
   "metadata": {},
   "outputs": [
    {
     "name": "stdout",
     "output_type": "stream",
     "text": [
      "Basic imports ready.\n"
     ]
    }
   ],
   "source": [
    "# Cell 2: lightweight imports (standard libs + pandas/matplotlib)\n",
    "import os\n",
    "import re\n",
    "import string\n",
    "from pathlib import Path\n",
    "from collections import Counter\n",
    "\n",
    "import pandas as pd\n",
    "import matplotlib.pyplot as plt\n",
    "\n",
    "print(\"Basic imports ready.\")"
   ]
  },
  {
   "cell_type": "code",
   "execution_count": 3,
   "id": "4d188e87-78ea-4cfd-84b6-20e7ae814a0f",
   "metadata": {},
   "outputs": [
    {
     "name": "stdout",
     "output_type": "stream",
     "text": [
      "Loaded: dialogueText.csv\n",
      "Shape: (1038324, 6)\n"
     ]
    },
    {
     "data": {
      "text/html": [
       "<div>\n",
       "<style scoped>\n",
       "    .dataframe tbody tr th:only-of-type {\n",
       "        vertical-align: middle;\n",
       "    }\n",
       "\n",
       "    .dataframe tbody tr th {\n",
       "        vertical-align: top;\n",
       "    }\n",
       "\n",
       "    .dataframe thead th {\n",
       "        text-align: right;\n",
       "    }\n",
       "</style>\n",
       "<table border=\"1\" class=\"dataframe\">\n",
       "  <thead>\n",
       "    <tr style=\"text-align: right;\">\n",
       "      <th></th>\n",
       "      <th>folder</th>\n",
       "      <th>dialogueID</th>\n",
       "      <th>date</th>\n",
       "      <th>from</th>\n",
       "      <th>to</th>\n",
       "      <th>text</th>\n",
       "    </tr>\n",
       "  </thead>\n",
       "  <tbody>\n",
       "    <tr>\n",
       "      <th>0</th>\n",
       "      <td>3</td>\n",
       "      <td>126125.tsv</td>\n",
       "      <td>2008-04-23T14:55:00.000Z</td>\n",
       "      <td>bad_image</td>\n",
       "      <td>NaN</td>\n",
       "      <td>Hello folks, please help me a bit with the fol...</td>\n",
       "    </tr>\n",
       "    <tr>\n",
       "      <th>1</th>\n",
       "      <td>3</td>\n",
       "      <td>126125.tsv</td>\n",
       "      <td>2008-04-23T14:56:00.000Z</td>\n",
       "      <td>bad_image</td>\n",
       "      <td>NaN</td>\n",
       "      <td>Did I choose a bad channel? I ask because you ...</td>\n",
       "    </tr>\n",
       "    <tr>\n",
       "      <th>2</th>\n",
       "      <td>3</td>\n",
       "      <td>126125.tsv</td>\n",
       "      <td>2008-04-23T14:57:00.000Z</td>\n",
       "      <td>lordleemo</td>\n",
       "      <td>bad_image</td>\n",
       "      <td>the second sentence is better english   and we...</td>\n",
       "    </tr>\n",
       "    <tr>\n",
       "      <th>3</th>\n",
       "      <td>3</td>\n",
       "      <td>64545.tsv</td>\n",
       "      <td>2009-08-01T06:22:00.000Z</td>\n",
       "      <td>mechtech</td>\n",
       "      <td>NaN</td>\n",
       "      <td>Sock Puppe?t</td>\n",
       "    </tr>\n",
       "    <tr>\n",
       "      <th>4</th>\n",
       "      <td>3</td>\n",
       "      <td>64545.tsv</td>\n",
       "      <td>2009-08-01T06:22:00.000Z</td>\n",
       "      <td>mechtech</td>\n",
       "      <td>NaN</td>\n",
       "      <td>WTF?</td>\n",
       "    </tr>\n",
       "  </tbody>\n",
       "</table>\n",
       "</div>"
      ],
      "text/plain": [
       "   folder  dialogueID                      date       from         to  \\\n",
       "0       3  126125.tsv  2008-04-23T14:55:00.000Z  bad_image        NaN   \n",
       "1       3  126125.tsv  2008-04-23T14:56:00.000Z  bad_image        NaN   \n",
       "2       3  126125.tsv  2008-04-23T14:57:00.000Z  lordleemo  bad_image   \n",
       "3       3   64545.tsv  2009-08-01T06:22:00.000Z   mechtech        NaN   \n",
       "4       3   64545.tsv  2009-08-01T06:22:00.000Z   mechtech        NaN   \n",
       "\n",
       "                                                text  \n",
       "0  Hello folks, please help me a bit with the fol...  \n",
       "1  Did I choose a bad channel? I ask because you ...  \n",
       "2  the second sentence is better english   and we...  \n",
       "3                                       Sock Puppe?t  \n",
       "4                                               WTF?  "
      ]
     },
     "execution_count": 3,
     "metadata": {},
     "output_type": "execute_result"
    }
   ],
   "source": [
    "# Cell 3: load CSV and show shape/head\n",
    "path = Path(DATA_PATH)\n",
    "if not path.exists():\n",
    "    raise FileNotFoundError(f\"{path} not found. Update DATA_PATH or place the file in the notebook directory.\")\n",
    "\n",
    "df = pd.read_csv(path)\n",
    "print(\"Loaded:\", path)\n",
    "print(\"Shape:\", df.shape)\n",
    "df.head()"
   ]
  },
  {
   "cell_type": "code",
   "execution_count": 4,
   "id": "444e5c80-53ad-4c63-8de4-83b770c16848",
   "metadata": {},
   "outputs": [
    {
     "name": "stdout",
     "output_type": "stream",
     "text": [
      "After cleaning shape: (1038237, 4)\n"
     ]
    }
   ],
   "source": [
    "# Cell 4: minimal cleanup: drop 'folder'/'dialogueID' if present, drop rows without text\n",
    "for c in [\"folder\", \"dialogueID\"]:\n",
    "    if c in df.columns:\n",
    "        df.drop(columns=[c], inplace=True)\n",
    "\n",
    "if \"text\" not in df.columns:\n",
    "    raise KeyError(\"Expected column named 'text'. Rename or update code to point to your text column.\")\n",
    "\n",
    "df = df.dropna(subset=[\"text\"]).reset_index(drop=True)\n",
    "print(\"After cleaning shape:\", df.shape)"
   ]
  },
  {
   "cell_type": "code",
   "execution_count": 5,
   "id": "44ee79f7-65d6-43cc-9ba7-761af199b26d",
   "metadata": {},
   "outputs": [
    {
     "name": "stdout",
     "output_type": "stream",
     "text": [
      "Sample 5 messages:\n",
      "1. hi. i want a minimal audio player whose sole purpose is to play audio files, and NOTHING else\n",
      "2.   that was way easier than I thought it would be ... thanks much\n",
      "3. do you know where i can put my .debs?\n",
      "4. awesome, thanks\n",
      "5. what kind of problems are possible to happen related to if I install ubuntu 11.10 beta 2 and just upgrade it regularly through synaptic, instead of waiting for ubuntu 11.10 and do the same?\n",
      "Total rows: 1038237\n",
      "Unique messages: 863907\n"
     ]
    }
   ],
   "source": [
    "# Cell 5: quick peek & basic counts\n",
    "print(\"Sample 5 messages:\")\n",
    "for i, t in enumerate(df[\"text\"].sample(5, random_state=1).tolist(), 1):\n",
    "    print(f\"{i}.\", t[:200])   # print first 200 chars for preview\n",
    "print(\"Total rows:\", len(df))\n",
    "print(\"Unique messages:\", df[\"text\"].nunique())"
   ]
  },
  {
   "cell_type": "code",
   "execution_count": 6,
   "id": "eb70ba42-338c-4b63-89ef-c6dd68a5037d",
   "metadata": {},
   "outputs": [],
   "source": [
    "# Cell 6: small cleaning helpers - lowercase, urls, mentions/hashtags\n",
    "def to_lower(s):\n",
    "    return s.lower()\n",
    "\n",
    "def remove_urls(s):\n",
    "    return re.sub(r\"http\\S+|www\\.\\S+|https\\S+\", \"\", s)\n",
    "\n",
    "def remove_mentions_hashtags(s):\n",
    "    s = re.sub(r\"@\\w+\", \"\", s)   # remove @mentions\n",
    "    s = re.sub(r\"#\\w+\", \"\", s)   # remove #hashtags\n",
    "    return s"
   ]
  },
  {
   "cell_type": "code",
   "execution_count": 7,
   "id": "a8012ca4-002e-4167-bbe6-513d092602ec",
   "metadata": {},
   "outputs": [],
   "source": [
    "# Cell 7: punctuation, numbers, whitespace normalization\n",
    "PUNCT_TABLE = str.maketrans(\"\", \"\", string.punctuation)\n",
    "\n",
    "def remove_punct(s):\n",
    "    return s.translate(PUNCT_TABLE)\n",
    "\n",
    "def remove_numbers(s):\n",
    "    return re.sub(r\"\\d+\", \"\", s)\n",
    "\n",
    "def normalize_whitespace(s):\n",
    "    return re.sub(r\"\\s+\", \" \", s).strip()"
   ]
  },
  {
   "cell_type": "code",
   "execution_count": 8,
   "id": "3d347fbc-be92-4aca-8b1d-d2488940222b",
   "metadata": {},
   "outputs": [
    {
     "name": "stderr",
     "output_type": "stream",
     "text": [
      "[nltk_data] Downloading package punkt to C:\\Users\\RITAM\n",
      "[nltk_data]     PAL\\AppData\\Roaming\\nltk_data...\n",
      "[nltk_data]   Package punkt is already up-to-date!\n",
      "[nltk_data] Downloading package stopwords to C:\\Users\\RITAM\n",
      "[nltk_data]     PAL\\AppData\\Roaming\\nltk_data...\n",
      "[nltk_data]   Package stopwords is already up-to-date!\n",
      "[nltk_data] Downloading package wordnet to C:\\Users\\RITAM\n",
      "[nltk_data]     PAL\\AppData\\Roaming\\nltk_data...\n",
      "[nltk_data]   Package wordnet is already up-to-date!\n",
      "[nltk_data] Downloading package omw-1.4 to C:\\Users\\RITAM\n",
      "[nltk_data]     PAL\\AppData\\Roaming\\nltk_data...\n"
     ]
    }
   ],
   "source": [
    "# Cell 8: NLTK import/install & resources + stopword/lemmatizer helpers\n",
    "try:\n",
    "    import nltk\n",
    "except ImportError:\n",
    "    import sys, subprocess\n",
    "    subprocess.check_call([sys.executable, \"-m\", \"pip\", \"install\", \"nltk\"])\n",
    "    import nltk\n",
    "\n",
    "# Download only what we'll use\n",
    "nltk.download(\"punkt\")\n",
    "nltk.download(\"stopwords\")\n",
    "nltk.download(\"wordnet\")\n",
    "nltk.download(\"omw-1.4\")\n",
    "\n",
    "from nltk.corpus import stopwords\n",
    "from nltk.stem import WordNetLemmatizer\n",
    "from nltk.tokenize import word_tokenize\n",
    "\n",
    "STOPWORDS = set(stopwords.words(\"english\"))\n",
    "CUSTOM_STOPWORDS = {\"hi\",\"hello\",\"hey\",\"im\",\"dont\",\"u\",\"you\",\"thanks\",\"thank\",\"want\",\"like\",\"know\",\"pls\",\"please\"}\n",
    "STOPWORDS |= CUSTOM_STOPWORDS\n",
    "\n",
    "LEMMATIZER = WordNetLemmatizer()\n",
    "\n",
    "def remove_stopwords_and_lemmatize(s):\n",
    "    tokens = word_tokenize(s)\n",
    "    tokens = [t for t in tokens if t.lower() not in STOPWORDS]\n",
    "    lemmas = [LEMMATIZER.lemmatize(t) for t in tokens]\n",
    "    return \" \".join(lemmas)"
   ]
  },
  {
   "cell_type": "code",
   "execution_count": 9,
   "id": "7b1f2e78-e0c5-44ff-b9e4-3df2a5f7da6f",
   "metadata": {},
   "outputs": [],
   "source": [
    "# Cell 9: single small function that composes the above steps\n",
    "def preprocess_text(s):\n",
    "    if not isinstance(s, str):\n",
    "        return \"\"\n",
    "    s = to_lower(s)\n",
    "    s = remove_urls(s)\n",
    "    s = remove_mentions_hashtags(s)\n",
    "    s = remove_punct(s)\n",
    "    s = remove_numbers(s)\n",
    "    s = normalize_whitespace(s)\n",
    "    s = remove_stopwords_and_lemmatize(s)\n",
    "    return s"
   ]
  },
  {
   "cell_type": "code",
   "execution_count": 10,
   "id": "5210c74a-52cb-43f0-8501-27520a71bd49",
   "metadata": {},
   "outputs": [
    {
     "name": "stdout",
     "output_type": "stream",
     "text": [
      "Completed preprocessing on sample of 50000\n"
     ]
    },
    {
     "data": {
      "text/html": [
       "<div>\n",
       "<style scoped>\n",
       "    .dataframe tbody tr th:only-of-type {\n",
       "        vertical-align: middle;\n",
       "    }\n",
       "\n",
       "    .dataframe tbody tr th {\n",
       "        vertical-align: top;\n",
       "    }\n",
       "\n",
       "    .dataframe thead th {\n",
       "        text-align: right;\n",
       "    }\n",
       "</style>\n",
       "<table border=\"1\" class=\"dataframe\">\n",
       "  <thead>\n",
       "    <tr style=\"text-align: right;\">\n",
       "      <th></th>\n",
       "      <th>text</th>\n",
       "      <th>clean_text</th>\n",
       "    </tr>\n",
       "  </thead>\n",
       "  <tbody>\n",
       "    <tr>\n",
       "      <th>0</th>\n",
       "      <td>!enter | Newb`s</td>\n",
       "      <td>enter newbs</td>\n",
       "    </tr>\n",
       "    <tr>\n",
       "      <th>1</th>\n",
       "      <td>How do I activate the root account?</td>\n",
       "      <td>activate root account</td>\n",
       "    </tr>\n",
       "    <tr>\n",
       "      <th>2</th>\n",
       "      <td>maybe xmms ?</td>\n",
       "      <td>maybe xmms</td>\n",
       "    </tr>\n",
       "    <tr>\n",
       "      <th>3</th>\n",
       "      <td>Dekela, you did?</td>\n",
       "      <td>dekela</td>\n",
       "    </tr>\n",
       "    <tr>\n",
       "      <th>4</th>\n",
       "      <td>ok if i install windows</td>\n",
       "      <td>ok install window</td>\n",
       "    </tr>\n",
       "  </tbody>\n",
       "</table>\n",
       "</div>"
      ],
      "text/plain": [
       "                                  text             clean_text\n",
       "0                      !enter | Newb`s            enter newbs\n",
       "1  How do I activate the root account?  activate root account\n",
       "2                         maybe xmms ?             maybe xmms\n",
       "3                     Dekela, you did?                 dekela\n",
       "4              ok if i install windows      ok install window"
      ]
     },
     "execution_count": 10,
     "metadata": {},
     "output_type": "execute_result"
    }
   ],
   "source": [
    "# Cell 10: apply preprocessing to a sample to keep runtime reasonable\n",
    "SAMPLE_N = 50000\n",
    "n = min(SAMPLE_N, len(df))\n",
    "df_sample = df.sample(n=n, random_state=42).reset_index(drop=True)\n",
    "\n",
    "# Create clean_text column (this is the expensive op)\n",
    "df_sample[\"clean_text\"] = df_sample[\"text\"].apply(preprocess_text)\n",
    "\n",
    "print(\"Completed preprocessing on sample of\", n)\n",
    "df_sample[[\"text\", \"clean_text\"]].head()"
   ]
  },
  {
   "cell_type": "code",
   "execution_count": 11,
   "id": "857bb556-4c64-4956-a720-8466cf3ef724",
   "metadata": {},
   "outputs": [
    {
     "name": "stdout",
     "output_type": "stream",
     "text": [
      "Average words/message: 5.27\n",
      "Median words/message:  4.0\n"
     ]
    },
    {
     "data": {
      "text/html": [
       "<div>\n",
       "<style scoped>\n",
       "    .dataframe tbody tr th:only-of-type {\n",
       "        vertical-align: middle;\n",
       "    }\n",
       "\n",
       "    .dataframe tbody tr th {\n",
       "        vertical-align: top;\n",
       "    }\n",
       "\n",
       "    .dataframe thead th {\n",
       "        text-align: right;\n",
       "    }\n",
       "</style>\n",
       "<table border=\"1\" class=\"dataframe\">\n",
       "  <thead>\n",
       "    <tr style=\"text-align: right;\">\n",
       "      <th></th>\n",
       "      <th>clean_text</th>\n",
       "      <th>word_count</th>\n",
       "      <th>char_count</th>\n",
       "    </tr>\n",
       "  </thead>\n",
       "  <tbody>\n",
       "    <tr>\n",
       "      <th>0</th>\n",
       "      <td>enter newbs</td>\n",
       "      <td>2</td>\n",
       "      <td>11</td>\n",
       "    </tr>\n",
       "    <tr>\n",
       "      <th>1</th>\n",
       "      <td>activate root account</td>\n",
       "      <td>3</td>\n",
       "      <td>21</td>\n",
       "    </tr>\n",
       "    <tr>\n",
       "      <th>2</th>\n",
       "      <td>maybe xmms</td>\n",
       "      <td>2</td>\n",
       "      <td>10</td>\n",
       "    </tr>\n",
       "    <tr>\n",
       "      <th>3</th>\n",
       "      <td>dekela</td>\n",
       "      <td>1</td>\n",
       "      <td>6</td>\n",
       "    </tr>\n",
       "    <tr>\n",
       "      <th>4</th>\n",
       "      <td>ok install window</td>\n",
       "      <td>3</td>\n",
       "      <td>17</td>\n",
       "    </tr>\n",
       "  </tbody>\n",
       "</table>\n",
       "</div>"
      ],
      "text/plain": [
       "              clean_text  word_count  char_count\n",
       "0            enter newbs           2          11\n",
       "1  activate root account           3          21\n",
       "2             maybe xmms           2          10\n",
       "3                 dekela           1           6\n",
       "4      ok install window           3          17"
      ]
     },
     "execution_count": 11,
     "metadata": {},
     "output_type": "execute_result"
    }
   ],
   "source": [
    "# Cell 11: word & character length stats\n",
    "df_sample[\"word_count\"] = df_sample[\"clean_text\"].apply(lambda s: len(s.split()) if s else 0)\n",
    "df_sample[\"char_count\"] = df_sample[\"clean_text\"].apply(len)\n",
    "\n",
    "print(f\"Average words/message: {df_sample['word_count'].mean():.2f}\")\n",
    "print(f\"Median words/message:  {df_sample['word_count'].median()}\")\n",
    "df_sample[[\"clean_text\", \"word_count\", \"char_count\"]].head()"
   ]
  },
  {
   "cell_type": "code",
   "execution_count": 12,
   "id": "d7bcc7fa-16c8-4f22-8bb1-edc60b17b09b",
   "metadata": {},
   "outputs": [
    {
     "data": {
      "image/png": "[encoded data removed]",
      "text/plain": [
       "<Figure size 800x400 with 1 Axes>"
      ]
     },
     "metadata": {},
     "output_type": "display_data"
    }
   ],
   "source": [
    "# Cell 12: histogram of word counts (matplotlib)\n",
    "plt.figure(figsize=(8,4))\n",
    "plt.hist(df_sample[\"word_count\"], bins=40)\n",
    "plt.title(\"Word count distribution\")\n",
    "plt.xlabel(\"Words per message\")\n",
    "plt.ylabel(\"Frequency\")\n",
    "plt.tight_layout()\n",
    "plt.show()"
   ]
  },
  {
   "cell_type": "code",
   "execution_count": 14,
   "id": "3a96b941-c4d5-4c1c-a6ce-5f227fe445b4",
   "metadata": {},
   "outputs": [
    {
     "data": {
      "image/png": "[encoded data removed]",
      "text/plain": [
       "<Figure size 1000x500 with 1 Axes>"
      ]
     },
     "metadata": {},
     "output_type": "display_data"
    }
   ],
   "source": [
    "# Cell 13: top 20 most common words from clean_text\n",
    "counter = Counter()\n",
    "for s in df_sample[\"clean_text\"]:\n",
    "    if s:\n",
    "        counter.update(s.split())\n",
    "\n",
    "top20 = counter.most_common(20)\n",
    "top20_df = pd.DataFrame(top20, columns=[\"word\", \"count\"])\n",
    "plt.figure(figsize=(10,5))\n",
    "plt.bar(top20_df[\"word\"], top20_df[\"count\"])\n",
    "plt.xticks(rotation=45, ha=\"right\")\n",
    "plt.title(\"Top 20 words\")\n",
    "plt.tight_layout()\n",
    "plt.show()\n"
   ]
  },
  {
   "cell_type": "code",
   "execution_count": 15,
   "id": "808bf778-323a-41b8-9900-7ef7576bda3c",
   "metadata": {},
   "outputs": [
    {
     "name": "stdout",
     "output_type": "stream",
     "text": [
      "Sentiment label counts:\n",
      "neutral     31778\n",
      "positive    12482\n",
      "negative     5740\n",
      "Name: sentiment_label, dtype: int64\n"
     ]
    },
    {
     "data": {
      "text/html": [
       "<div>\n",
       "<style scoped>\n",
       "    .dataframe tbody tr th:only-of-type {\n",
       "        vertical-align: middle;\n",
       "    }\n",
       "\n",
       "    .dataframe tbody tr th {\n",
       "        vertical-align: top;\n",
       "    }\n",
       "\n",
       "    .dataframe thead th {\n",
       "        text-align: right;\n",
       "    }\n",
       "</style>\n",
       "<table border=\"1\" class=\"dataframe\">\n",
       "  <thead>\n",
       "    <tr style=\"text-align: right;\">\n",
       "      <th></th>\n",
       "      <th>clean_text</th>\n",
       "      <th>sentiment_compound</th>\n",
       "      <th>sentiment_label</th>\n",
       "    </tr>\n",
       "  </thead>\n",
       "  <tbody>\n",
       "    <tr>\n",
       "      <th>0</th>\n",
       "      <td>enter newbs</td>\n",
       "      <td>0.000</td>\n",
       "      <td>neutral</td>\n",
       "    </tr>\n",
       "    <tr>\n",
       "      <th>1</th>\n",
       "      <td>activate root account</td>\n",
       "      <td>0.000</td>\n",
       "      <td>neutral</td>\n",
       "    </tr>\n",
       "    <tr>\n",
       "      <th>2</th>\n",
       "      <td>maybe xmms</td>\n",
       "      <td>0.000</td>\n",
       "      <td>neutral</td>\n",
       "    </tr>\n",
       "    <tr>\n",
       "      <th>3</th>\n",
       "      <td>dekela</td>\n",
       "      <td>0.000</td>\n",
       "      <td>neutral</td>\n",
       "    </tr>\n",
       "    <tr>\n",
       "      <th>4</th>\n",
       "      <td>ok install window</td>\n",
       "      <td>0.296</td>\n",
       "      <td>positive</td>\n",
       "    </tr>\n",
       "  </tbody>\n",
       "</table>\n",
       "</div>"
      ],
      "text/plain": [
       "              clean_text  sentiment_compound sentiment_label\n",
       "0            enter newbs               0.000         neutral\n",
       "1  activate root account               0.000         neutral\n",
       "2             maybe xmms               0.000         neutral\n",
       "3                 dekela               0.000         neutral\n",
       "4      ok install window               0.296        positive"
      ]
     },
     "execution_count": 15,
     "metadata": {},
     "output_type": "execute_result"
    }
   ],
   "source": [
    "# Cell 15: sentiment analysis using VADER (install only if missing)\n",
    "try:\n",
    "    from vaderSentiment.vaderSentiment import SentimentIntensityAnalyzer\n",
    "except ImportError:\n",
    "    import sys, subprocess\n",
    "    subprocess.check_call([sys.executable, \"-m\", \"pip\", \"install\", \"vaderSentiment\"])\n",
    "    from vaderSentiment.vaderSentiment import SentimentIntensityAnalyzer\n",
    "\n",
    "analyzer = SentimentIntensityAnalyzer()\n",
    "\n",
    "# compute compound score and simple label\n",
    "df_sample[\"sentiment_compound\"] = df_sample[\"clean_text\"].apply(lambda s: analyzer.polarity_scores(s)[\"compound\"])\n",
    "def label_sentiment(c):\n",
    "    if c >= 0.05:\n",
    "        return \"positive\"\n",
    "    if c <= -0.05:\n",
    "        return \"negative\"\n",
    "    return \"neutral\"\n",
    "\n",
    "df_sample[\"sentiment_label\"] = df_sample[\"sentiment_compound\"].apply(label_sentiment)\n",
    "\n",
    "print(\"Sentiment label counts:\")\n",
    "print(df_sample[\"sentiment_label\"].value_counts())\n",
    "df_sample[[\"clean_text\", \"sentiment_compound\", \"sentiment_label\"]].head()"
   ]
  },
  {
   "cell_type": "code",
   "execution_count": 16,
   "id": "6ae1eb75-ece0-4db0-add6-3c1ea5de7885",
   "metadata": {},
   "outputs": [
    {
     "data": {
      "image/png": "[encoded data removed]",
      "text/plain": [
       "<Figure size 640x480 with 1 Axes>"
      ]
     },
     "metadata": {},
     "output_type": "display_data"
    }
   ],
   "source": [
    "# Cell 16: plot sentiment label distribution\n",
    "df_sample[\"sentiment_label\"].value_counts().plot(kind=\"bar\")\n",
    "plt.title(\"Sentiment label counts\")\n",
    "plt.xlabel(\"Sentiment\")\n",
    "plt.ylabel(\"Count\")\n",
    "plt.tight_layout()\n",
    "plt.show()"
   ]
  },
  {
   "cell_type": "code",
   "execution_count": null,
   "id": "970ed820-d487-4931-b5b5-31d4b3b2c77d",
   "metadata": {},
   "outputs": [],
   "source": []
  }
 ],
 "metadata": {
  "kernelspec": {
   "display_name": "Python 3 (ipykernel)",
   "language": "python",
   "name": "python3"
  },
  "language_info": {
   "codemirror_mode": {
    "name": "ipython",
    "version": 3
   },
   "file_extension": ".py",
   "mimetype": "text/x-python",
   "name": "python",
   "nbconvert_exporter": "python",
   "pygments_lexer": "ipython3",
   "version": "3.11.0"
  }
 },
 "nbformat": 4,
 "nbformat_minor": 5
}
